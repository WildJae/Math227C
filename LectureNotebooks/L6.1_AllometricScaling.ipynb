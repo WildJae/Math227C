{
 "cells": [
  {
   "attachments": {},
   "cell_type": "markdown",
   "metadata": {},
   "source": [
    "# L17: Linear regression\n",
    "Key concepts: Linear regression, nonlinear least-squares, heteroskedasticity\n",
    "\n",
    "Hello class!\n",
    "\n",
    "Application: Allometric scaling"
   ]
  },
  {
   "cell_type": "code",
   "execution_count": null,
   "metadata": {
    "vscode": {
     "languageId": "r"
    }
   },
   "outputs": [],
   "source": [
    "# plot settings\n",
    "options(repr.plot.width=6, repr.plot.height=5)\n"
   ]
  },
  {
   "attachments": {},
   "cell_type": "markdown",
   "metadata": {},
   "source": [
    "## Ordinary linear regression examples\n",
    "Let's study the linear model $y = \\beta_0 + \\beta_1 x + \\epsilon.$"
   ]
  },
  {
   "cell_type": "code",
   "execution_count": null,
   "metadata": {
    "vscode": {
     "languageId": "r"
    }
   },
   "outputs": [],
   "source": [
    "# Simulate some linear data with noise\n",
    "N <- 1000\n",
    "beta0 <- 10.5\n",
    "beta1 <- 2.6\n",
    "sigma <- 14\n",
    "\n",
    "X_ThePredictor <- seq(0,10,length=N)\n",
    "eps <- rnorm(N,0,sigma) # noise aka residuals\n",
    "\n",
    "Y_TheResponse <- beta0 + beta1*X_ThePredictor +eps\n",
    "\n",
    "plot(X_ThePredictor,Y_TheResponse)"
   ]
  },
  {
   "cell_type": "code",
   "execution_count": null,
   "metadata": {
    "vscode": {
     "languageId": "r"
    }
   },
   "outputs": [],
   "source": [
    "# Fit a linear model\n",
    "lm(Y_TheResponse~X_ThePredictor)"
   ]
  },
  {
   "attachments": {},
   "cell_type": "markdown",
   "metadata": {},
   "source": [
    "---\n",
    "Let's study the linear model $y = \\beta_0 + \\beta_1 x_1 + \\beta_2 x_2 + \\epsilon.$"
   ]
  },
  {
   "cell_type": "code",
   "execution_count": null,
   "metadata": {
    "vscode": {
     "languageId": "r"
    }
   },
   "outputs": [],
   "source": [
    "# Multiple regression linear model\n",
    "\n",
    "# Simulate some linear data with noise\n",
    "N <- 1000\n",
    "beta0 <- 10.5\n",
    "beta1 <- 2.6\n",
    "beta2 <- 20\n",
    "sigma <- 110\n",
    "\n",
    "X1_ThePredictor <- runif(N,0,10)\n",
    "X2_ThePredictor <- runif(N,0,10)\n",
    "eps <- rnorm(N,0,sigma)\n",
    "\n",
    "Y_TheResponse <- beta0 + beta1*X1_ThePredictor + beta2*X2_ThePredictor +eps\n",
    "\n",
    "# Fit the model\n",
    "lm(Y_TheResponse~X1_ThePredictor+X2_ThePredictor)"
   ]
  },
  {
   "attachments": {},
   "cell_type": "markdown",
   "metadata": {},
   "source": [
    "## Power law data\n",
    "\n",
    "Now let us study the nonlinear model\n",
    "$$ y =  y_0 \\left( x \\right)^\\alpha + \\epsilon$$\n",
    "where we identify $y$ as the volume of mitochondia in a cell and $x$ as the volume of the cell. The parameter $\\alpha$ is the power law determining how mitochondial size is controlled."
   ]
  },
  {
   "cell_type": "code",
   "execution_count": null,
   "metadata": {
    "vscode": {
     "languageId": "r"
    }
   },
   "outputs": [],
   "source": [
    "# Simulate power-law data\n",
    "\n",
    "N <- 100\n",
    "alpha <- 2.3\n",
    "Y0 <- 100\n",
    "sigma <- 600\n",
    "\n",
    "CellSize <- runif(N,3,10) # independent variable\n",
    "eps <- rnorm(N,0,sigma) # residuals\n",
    "\n",
    "MitoSize <- Y0*CellSize^alpha + eps\n",
    "\n",
    "plot(CellSize,MitoSize)"
   ]
  },
  {
   "cell_type": "code",
   "execution_count": null,
   "metadata": {
    "vscode": {
     "languageId": "r"
    }
   },
   "outputs": [],
   "source": [
    "# nonlinear least squares\n",
    "modelMitoSize <- nls(MitoSize~b*CellSize^a, start=list(b=1,a=5))\n",
    "\n",
    "coef(modelMitoSize) # show coefficients\n",
    "\n",
    "plot(CellSize,MitoSize)\n",
    "\n",
    "# plot model prediction\n",
    "cellSizeAxis <- seq(0,10,length=100)\n",
    "b <- coef(modelMitoSize)[1]\n",
    "a <- coef(modelMitoSize)[2]\n",
    "mitoSizePrediction <- b*cellSizeAxis^a\n",
    "\n",
    "lines(cellSizeAxis,mitoSizePrediction,col=\"red\",lty=2,lwd=3)\n"
   ]
  },
  {
   "attachments": {},
   "cell_type": "markdown",
   "metadata": {},
   "source": [
    "---\n",
    "Now we will transform the model into a linear model. Notice the assumption of noise makes the fit model\n",
    "\n",
    "$$\\mathrm{log}y = \\mathrm{log}y_0 + \\alpha \\mathrm{log}(x) + \\epsilon$$\n",
    "\n",
    "is __not__ the same as the \"true\" model used to generate the simulated data,\n",
    "\n",
    "$$\\mathrm{log}y = \\mathrm{log}\\left( y_0 \\left( x \\right)^\\alpha + \\epsilon\\right).$$\n",
    "\n"
   ]
  },
  {
   "cell_type": "code",
   "execution_count": null,
   "metadata": {
    "vscode": {
     "languageId": "r"
    }
   },
   "outputs": [],
   "source": [
    "# Transform the data and then use linear regression\n",
    "\n",
    "logMitoSize <- log(MitoSize)\n",
    "logCellSize <- log(CellSize)\n",
    "\n",
    "plot(logCellSize,logMitoSize)\n"
   ]
  },
  {
   "cell_type": "code",
   "execution_count": null,
   "metadata": {
    "vscode": {
     "languageId": "r"
    }
   },
   "outputs": [],
   "source": [
    "\n",
    "linearModel = lm(logMitoSize~logCellSize)\n",
    "\n",
    "linearModel\n",
    "\n",
    "# plot residuals\n",
    "plot(logCellSize,resid(linearModel))\n",
    "abline(0,0)\n"
   ]
  },
  {
   "cell_type": "code",
   "execution_count": null,
   "metadata": {
    "vscode": {
     "languageId": "r"
    }
   },
   "outputs": [],
   "source": []
  }
 ],
 "metadata": {
  "kernelspec": {
   "display_name": "R",
   "language": "R",
   "name": "ir"
  },
  "language_info": {
   "codemirror_mode": "r",
   "file_extension": ".r",
   "mimetype": "text/x-r-source",
   "name": "R",
   "pygments_lexer": "r",
   "version": "4.3.0"
  }
 },
 "nbformat": 4,
 "nbformat_minor": 2
}
